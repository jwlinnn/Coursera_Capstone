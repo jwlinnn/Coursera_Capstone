{
 "cells": [
  {
   "cell_type": "markdown",
   "metadata": {
    "collapsed": true
   },
   "source": [
    "# Capstone Project - Car accident severity (Week 2)\n",
    "***\n",
    "\n",
    "For 2nd week, you will required to submit the following:\n",
    "\n",
    "1. A description of the problem and a discussion of the background. __(15 marks)__\n",
    "2. A description of the data and how it will be used to solve the problem. __(15 marks)__"
   ]
  },
  {
   "cell_type": "markdown",
   "metadata": {},
   "source": [
    "## Problem and Background\n",
    "\n",
    "Car accidents occurs everywhere worldwide and is one of the leading causes for people between the ages 5-29 years. According to World Health Organization (WHO), roughly 1.35 million people die from traffic collisons. More than half of road traffic deaths involve users such as pedestrians, cyclists, and motorcyclists. Road traffic accidents also attribute to 3% of the domestic product. The goal is to identity relevant factors and derive insight on what events lead to these car accident and what severity is depended on\n",
    "\n",
    "__Problems and Factors__\n",
    "* What attributes to car accidents?\n",
    "* What can be done to remedy these?\n",
    "\n",
    "__Source__ \n",
    "\n",
    "WHO: https://www.who.int/news-room/fact-sheets/detail/road-traffic-injuries"
   ]
  },
  {
   "cell_type": "markdown",
   "metadata": {},
   "source": [
    "## Data\n",
    "\n",
    "The dataset, containing roughly ~250,000 records as of Oct 2020, was used for analysis. It contains data collected from 2004 to 2020 and is based on accidents taken place in the state of Washington, Seattle. For each car accident, a severity (1 = prop damage and 2 = injury) code is assigned as well as other relevant information such as:\n",
    "* location\n",
    "* speeding involved\n",
    "* road condition\n",
    "* collision type\n",
    "* weather condition\n",
    "* lighting condition\n",
    "* driver inattention\n",
    "* number of cars involved\n",
    "* number of people involved\n",
    "\n",
    "These data points will be analyzed to what the major influences in car collisions\n",
    "\n",
    "__Source__\n",
    "Dataset: https://s3.us.cloud-object-storage.appdomain.cloud/cf-courses-data/CognitiveClass/DP0701EN/version-2/Data-Collisions.csv <br>\n",
    "Metadata: https://s3.us.cloud-object-storage.appdomain.cloud/cf-courses-data/CognitiveClass/DP0701EN/version-2/Metadata.pdf"
   ]
  },
  {
   "cell_type": "code",
   "execution_count": null,
   "metadata": {},
   "outputs": [],
   "source": []
  }
 ],
 "metadata": {
  "kernelspec": {
   "display_name": "Python 3.6",
   "language": "python",
   "name": "python3"
  },
  "language_info": {
   "codemirror_mode": {
    "name": "ipython",
    "version": 3
   },
   "file_extension": ".py",
   "mimetype": "text/x-python",
   "name": "python",
   "nbconvert_exporter": "python",
   "pygments_lexer": "ipython3",
   "version": "3.6.9"
  }
 },
 "nbformat": 4,
 "nbformat_minor": 1
}
